{
 "cells": [
  {
   "cell_type": "code",
   "execution_count": 446,
   "metadata": {},
   "outputs": [],
   "source": [
    "from pyfirmata import ArduinoMega as Arduino # import the right board but always call it Arduino\n",
    "from pyfirmata import Pin\n",
    "from pyfirmata import util\n",
    "import numpy as np\n",
    "import warnings\n",
    "from tqdm import tqdm\n",
    "import pandas as pd\n",
    "import sys\n",
    "import threading\n",
    "import logging\n",
    "import datetime\n",
    "# import ipdb\n",
    "import time\n",
    "import pickle # share pin state across threads"
   ]
  },
  {
   "cell_type": "code",
   "execution_count": 447,
   "metadata": {
    "collapsed": true
   },
   "outputs": [],
   "source": [
    "class MyThread(threading.Thread):\n",
    "    def start(self, program_start):\n",
    "        self._kwargs[\"program_start\"] = program_start\n",
    "        super(MyThread, self).start()\n"
   ]
  },
  {
   "cell_type": "code",
   "execution_count": 448,
   "metadata": {},
   "outputs": [],
   "source": [
    "mapping_file = \"pins_mapping_breadboard.csv\"\n",
    "program_file = \"simplified_program3.csv\"\n",
    "total_time = 30\n",
    "port = \"/dev/ttyACM1\""
   ]
  },
  {
   "cell_type": "code",
   "execution_count": 449,
   "metadata": {
    "collapsed": true
   },
   "outputs": [],
   "source": [
    "mapping=pd.read_csv(mapping_file)\n",
    "program=pd.read_csv(program_file, skip_blank_lines=True)\n",
    "pin_names = mapping.pin_id\n",
    "pin_state = {p: 0 for p in pin_names}\n",
    "filehandler = open(\"pin_state.obj\",\"wb\")\n",
    "pickle.dump(pin_state,filehandler)\n",
    "filehandler.close()    "
   ]
  },
  {
   "cell_type": "code",
   "execution_count": 474,
   "metadata": {
    "collapsed": true
   },
   "outputs": [],
   "source": [
    "def pin_id2n(pin_id): return str(mapping.query('pin_id  == \"'+pin_id+'\"')[\"pin_number\"].iloc[0]).zfill(2)\n",
    "pin_state2 = {p: \"x\" if v == 1 else \" \" for p, v in pin_state.items()}\n",
    "\n",
    "    \n",
    "def left_pair(p): return [pin_id2n(p), pin_state2[p]]\n",
    "def show_circuit(mapping,\n",
    "                 #pin_state,\n",
    "                 message=None, flush=True):\n",
    "    global pin_state\n",
    "    \n",
    "    pin_state_g = {p: \"x\" if v == 1 else \" \" for p, v in pin_state.items()}\n",
    "    print(pin_state_g[\"RIGHT_ODOUR_2\"])\n",
    "\n",
    "    main_pins = mapping.query('pin_group == \"main\"')[\"pin_id\"].values[1:]\n",
    "    left_pins = mapping.query('pin_group == \"left\"')[\"pin_id\"].values\n",
    "    right_pins = mapping.query('pin_group == \"right\"')[\"pin_id\"].values\n",
    "    \n",
    "    show_data = [pin_id2n(p) for p in main_pins] + [pin_state_g[p] for p in main_pins]\n",
    "    show_data2 = [left_pair(p) for p in left_pins] \n",
    "    show_data3 = [left_pair(p)[::-1] for p in right_pins] \n",
    "    show_data4 = list(zip(show_data2, show_data3))\n",
    "    flatten = lambda l: [item for sublist in l for item in sublist]\n",
    "    show_data4 = flatten(flatten(show_data4))\n",
    "    show_data += show_data4\n",
    "    n=4\n",
    "    n2=18\n",
    "    circuit = \" \" * 8 + \"{}-VA  {}-MA  {}-IR  {}-VI   \\n\" +\\\n",
    "    \" \" * 8 + \"[{}]\" + \" \" * n + \"[{}]\" + \" \" * n + \"[{}]\" + \" \" * n + \"[{}]\\n\" +\\\n",
    "    \"{}-LO1  [{}]\" + \" \" * n2 + \"[{}] RO1-{}\\n\" +\\\n",
    "    \"{}-LO2  [{}]\" + \" \" * n2 + \"[{}] RO2-{}\\n\" +\\\n",
    "    \"{}-LES  [{}]\" + \" \" * n2 + \"[{}] RES-{}\\n\" +\\\n",
    "    \"{}-LL   [{}]\" + \" \" * n2 + \"[{}]  RL-{}\\n\"\n",
    "    filled_circuit = circuit.format(*show_data)        \n",
    "        \n",
    "        \n",
    "    if not message is None:\n",
    "        output = \"{}: {}\\n{}\".format(datetime.datetime.now(), message, filled_circuit)\n",
    "    else:\n",
    "        output = \"{}: \\n{}\".format(datetime.datetime.now(), filled_circuit)\n",
    "    if flush:\n",
    "        nlines = len(filled_circuit.split('\\n'))\n",
    "        output = nlines * \"\\033[F\\033[K\" + output\n",
    "        #clear line\n",
    "    handle = open(\"pin_state.txt\", \"a+\")\n",
    "    handle.write(output)\n",
    "    handle.close()\n",
    "#     sys.stdout.write(output)"
   ]
  },
  {
   "cell_type": "code",
   "execution_count": 475,
   "metadata": {},
   "outputs": [],
   "source": [
    "def write_start_time(pin_number, message, start):\n",
    "    \n",
    "    handle = open(\"log_{}.txt\".format(pin_number), \"a+\")\n",
    "    handle.write(message.format(pin_number, start, datetime.datetime.now()))\n",
    "    handle.close()\n",
    "\n",
    "def toggle_pin(pin_number, value, message=None):\n",
    "#     global pin_state\n",
    "    board.digital[pin_number].write(value)\n",
    "#     filehandler = open(\"pin_state.obj\",\"rb\")\n",
    "#     pickle.load(filehandler)\n",
    "#     filehandler.close()\n",
    "    pin_state[mapping.query('pin_number == \"{}\"'.format(pin_number))[\"pin_id\"].iloc[0]]=value\n",
    "    print(pin_state[\"RIGHT_ODOUR_2\"])\n",
    "\n",
    "#     filehandler = open(\"pin_state.obj\",\"wb\")\n",
    "#     pickle.dump(pin_state,filehandler)\n",
    "#     filehandler.close()\n",
    "\n",
    "    show_circuit(mapping,#pin_state,\n",
    "                 message)\n",
    "    \n",
    "    \n",
    "\n",
    "def pin_daemon(pin_number, total_time, program_start, start, end, on, off, n_iters=np.nan, d_name=\"\"):\n",
    "    \"\"\"\n",
    "    pin_number: integer declaring the number of the pin on the Arduino board\n",
    "    \n",
    "    total_time: time in seconds that the whole program is supposed to last.\n",
    "                 After total_time, all pins should go off, no matter what their program is\n",
    "    \n",
    "    program_start: datetime object declaring the exact moment when run()\n",
    "    (the function that calls pin_daemon when defining the threads) is executed. Only makes sense in scheduled pins.\n",
    "    \n",
    "    start: timepoint in seconds when the pin should go on for the first time. Only makes sense in scheduled pins.\n",
    "    \n",
    "    end: timepoint in seconds when the pin should be turned off for good\n",
    "    \n",
    "    on: duration of the on time in a cycle. Only makes sense in intermitent pins.\n",
    "    \n",
    "    off: duration of the off time in a cycle. Only makes sense in intermitent pins.\n",
    "    \n",
    "    n_iters: By default is None, but it will be asigned a value equal to the number of cycles\n",
    "             required by intermitent pins (as instructed in the program). If the pin does not have a cycle,\n",
    "             then it will still be None        \n",
    "    \"\"\"\n",
    "    sync_time = 1\n",
    "    global pin_state\n",
    "    \n",
    "    # this is true for pins of type: CI, SI (intermitent)\n",
    "    if n_iters != n_iters and on == on:\n",
    "        n_iters = total_time // (on + off) # check if total time is accessible\n",
    "        \n",
    "    \n",
    "    # halt all threads until program_start + sync_time is reached\n",
    "    sleep1 = (program_start + datetime.timedelta(seconds=sync_time) - datetime.datetime.now()).total_seconds()\n",
    "    time.sleep(sleep1)\n",
    "\n",
    "    thread_start = datetime.datetime.now()    \n",
    "    write_start_time(pin_number, \"Pin {}-{} starts at {}\\n\", start)\n",
    "    \n",
    "    \n",
    "    logging.debug(\"Running program on pin {}\".format(pin_number))  \n",
    "\n",
    "    # halt the thread until program_start + time sleep in the syncing + start is reached\n",
    "    sleep2 = (thread_start + datetime.timedelta(seconds=start) - datetime.datetime.now()).total_seconds()\n",
    "    if sleep2 > 0:\n",
    "        time.sleep(sleep2)\n",
    "    else:\n",
    "        pass\n",
    "#         print(d_name.format(pin_number))\n",
    "#         print(sleep2)      \n",
    "        \n",
    "#     write_start_time(pin_number, \"Pin {}-{} executes at {}\\n\", start)\n",
    "\n",
    "    \n",
    "    p = mapping.query('pin_number == \"{}\"'.format(pin_number))[\"pin_id\"].iloc[0]\n",
    "\n",
    "    if n_iters == n_iters:    \n",
    "#         for _ in tqdm(range(int(n_iters))):\n",
    "        for _ in range(int(n_iters)):\n",
    "\n",
    "            start_time = datetime.datetime.now()\n",
    "#             board.digital[pin_number].write(1)\n",
    "#             pin_state[p] = 1\n",
    "            toggle_pin(pin_number, 1)\n",
    "            \n",
    "#             show_circuit(pin_state, mapping)\n",
    "            \n",
    "            runtime = datetime.datetime.now() - start_time\n",
    "            if runtime.total_seconds() > 1.1*on:\n",
    "                warnings.warn(\"Runtime: {}\".format(runtime))\n",
    "            else:\n",
    "                sleep_time = on - runtime.total_seconds()\n",
    "                \n",
    "                time.sleep(sleep_time)\n",
    "\n",
    "            start_time = datetime.datetime.now()\n",
    "#             board.digital[pin_number].write(0)\n",
    "#             pin_state[p]=0\n",
    "            toggle_pin(pin_number, 0)\n",
    "\n",
    "            \n",
    "#             show_circuit(pin_state, mapping)\n",
    "            \n",
    "            runtime = datetime.datetime.now() - start_time\n",
    "            if runtime.total_seconds() > 1.1*off:\n",
    "                warnings.warn(\"Runtime: {}\".format(runtime))\n",
    "            else:\n",
    "                sleep_time = off - runtime.total_seconds()\n",
    "\n",
    "                time.sleep(sleep_time)\n",
    "    else:\n",
    "        # constitutive pins\n",
    "        start_time = datetime.datetime.now()\n",
    "#         board.digital[pin_number].write(1)\n",
    "#         pin_state[p] = 1\n",
    "        toggle_pin(pin_number, 1)\n",
    "\n",
    "\n",
    "#         runtime = (datetime.datetime.now()-start_time).total_seconds()\n",
    "            \n",
    "\n",
    "#         sleep_time = end - start - runtime\n",
    "        sleep_time = end - start\n",
    "        if sleep2 < 0:\n",
    "            sleep_time += sleep2\n",
    "\n",
    "        time.sleep(sleep_time)\n",
    "#         board.digital[pin_number].write(0)\n",
    "#         pin_state[p]=0\n",
    "        toggle_pin(pin_number, 0)\n",
    "\n",
    "#     write_start_time(pin_number, \"Pin {}-{} exits at {}\\n\", start)\n",
    "\n",
    "\n",
    "        # output a log to the root dir of the project! :)\n",
    "        ## CODE\n",
    "        ## Pretty cool a tqdm bar\n",
    "    \n",
    "#     if pin_number == 23 or pin_number == 27: print(\"Exiting pin {} at {}\".format(pin_number, datetime.datetime.now()))\n",
    "\n",
    "\n",
    "            \n",
    "\n",
    "        \n",
    "def run(board, total_time):\n",
    "    global pin_state\n",
    " \n",
    "    # They are not run throughout the lifetime of the program, just at some interval and without intermitency\n",
    "    daemons = {}\n",
    "    \n",
    "    count = {p: 0 for p in program.pin_id}\n",
    "    for p in program.pin_id:\n",
    "        d_pin_number = np.asscalar(mapping.query('pin_id == \"{}\"'.format(p))[\"pin_number\"])\n",
    "        d_start = np.asscalar(program.query('pin_id == \"{}\"'.format(p))[\"start\"].iloc[count[p]])\n",
    "        d_end =   np.asscalar(program.query('pin_id == \"{}\"'.format(p))[\"end\"].iloc[count[p]])\n",
    "        d_on =   np.asscalar(program.query('pin_id == \"{}\"'.format(p))[\"on\"].iloc[count[p]])\n",
    "        d_off =   np.asscalar(program.query('pin_id == \"{}\"'.format(p))[\"off\"].iloc[count[p]])\n",
    "        d_name = 'daemon-{}_{}'.format(p, count[p])\n",
    "\n",
    "        kwargs = {\n",
    "            \"pin_number\"   : d_pin_number,\n",
    "            \"start\"        : d_start,\n",
    "            \"end\"          : d_end,\n",
    "            \"on\"           : d_on,\n",
    "            \"off\"          : d_off,\n",
    "            \"total_time\"   : total_time,\n",
    "            \"program_start\": None,\n",
    "            \"d_name\"         : d_name, \n",
    "\n",
    "        }\n",
    "#         print(kwargs)\n",
    "        \n",
    "        d = MyThread(name=d_name,\n",
    "                     target=pin_daemon,\n",
    "                     kwargs = kwargs)\n",
    "        d.setDaemon(True)\n",
    "        daemons[d_name]=d\n",
    "        count[p] += 1\n",
    "        \n",
    "    \n",
    "    \n",
    "    ## Signal start\n",
    "    for i in range(2):\n",
    "        for pin_number in mapping.pin_number:\n",
    "            board.digital[pin_number].write(1)\n",
    "            time.sleep(0.05)\n",
    "            board.digital[pin_number].write(0)\n",
    "            time.sleep(0.05)\n",
    "            \n",
    "    program_start = datetime.datetime.now()\n",
    "    [d.start(program_start) for d in daemons.values()]"
   ]
  },
  {
   "cell_type": "code",
   "execution_count": 476,
   "metadata": {},
   "outputs": [
    {
     "data": {
      "text/html": [
       "<div>\n",
       "<style scoped>\n",
       "    .dataframe tbody tr th:only-of-type {\n",
       "        vertical-align: middle;\n",
       "    }\n",
       "\n",
       "    .dataframe tbody tr th {\n",
       "        vertical-align: top;\n",
       "    }\n",
       "\n",
       "    .dataframe thead th {\n",
       "        text-align: right;\n",
       "    }\n",
       "</style>\n",
       "<table border=\"1\" class=\"dataframe\">\n",
       "  <thead>\n",
       "    <tr style=\"text-align: right;\">\n",
       "      <th></th>\n",
       "      <th>pin_id</th>\n",
       "      <th>start</th>\n",
       "      <th>end</th>\n",
       "      <th>on</th>\n",
       "      <th>off</th>\n",
       "    </tr>\n",
       "  </thead>\n",
       "  <tbody>\n",
       "  </tbody>\n",
       "</table>\n",
       "</div>"
      ],
      "text/plain": [
       "Empty DataFrame\n",
       "Columns: [pin_id, start, end, on, off]\n",
       "Index: []"
      ]
     },
     "execution_count": 476,
     "metadata": {},
     "output_type": "execute_result"
    }
   ],
   "source": [
    "p=\"RIGHT_ODOUR_1\"\n",
    "count={p:0}\n",
    "program.query('pin_id == \"{}\"'.format(p))"
   ]
  },
  {
   "cell_type": "code",
   "execution_count": 477,
   "metadata": {
    "collapsed": true
   },
   "outputs": [],
   "source": [
    "# board = Arduino(port)"
   ]
  },
  {
   "cell_type": "code",
   "execution_count": 478,
   "metadata": {},
   "outputs": [],
   "source": [
    "! rm log* pin_state.txt"
   ]
  },
  {
   "cell_type": "code",
   "execution_count": 479,
   "metadata": {},
   "outputs": [
    {
     "name": "stdout",
     "output_type": "stream",
     "text": [
      "1\n",
      "x\n",
      "0\n",
      " \n",
      "1\n",
      "x\n",
      "0\n",
      " \n",
      "1\n",
      "x\n",
      "0\n",
      " \n",
      "1\n",
      "x\n",
      "0\n",
      " \n",
      "1\n",
      "x\n",
      "0\n",
      " \n",
      "1\n",
      "x\n",
      "0\n",
      " \n",
      "1\n",
      "x\n",
      "0\n",
      " \n",
      "1\n",
      "x\n",
      "0\n",
      " \n"
     ]
    }
   ],
   "source": [
    "[board.digital[pin_number].write(0) for pin_number in mapping.pin_number]\n",
    "run(board,total_time=30)"
   ]
  },
  {
   "cell_type": "code",
   "execution_count": 390,
   "metadata": {},
   "outputs": [
    {
     "data": {
      "text/plain": [
       "Series([], Name: on, dtype: float64)"
      ]
     },
     "execution_count": 390,
     "metadata": {},
     "output_type": "execute_result"
    },
    {
     "name": "stdout",
     "output_type": "stream",
     "text": [
      "\u001b[F\u001b[K\u001b[F\u001b[K\u001b[F\u001b[K\u001b[F\u001b[K\u001b[F\u001b[K\u001b[F\u001b[K\u001b[F\u001b[K\u001b[F\u001b[K\u001b[F\u001b[K\u001b[F\u001b[K\u001b[F\u001b[K\u001b[F\u001b[K\u001b[F\u001b[K\u001b[F\u001b[K\u001b[F\u001b[K\u001b[F\u001b[K\u001b[F\u001b[K\u001b[F\u001b[K\u001b[F\u001b[K\u001b[F\u001b[K\u001b[F\u001b[K\u001b[F\u001b[K\u001b[F\u001b[K\u001b[F\u001b[K\u001b[F\u001b[K\u001b[F\u001b[K\u001b[F\u001b[K\u001b[F\u001b[K\u001b[F\u001b[K\u001b[F\u001b[K\u001b[F\u001b[K\u001b[F\u001b[K\u001b[F\u001b[K\u001b[F\u001b[K\u001b[F\u001b[K\u001b[F\u001b[K\u001b[F\u001b[K\u001b[F\u001b[K\u001b[F\u001b[K\u001b[F\u001b[K\u001b[F\u001b[K\u001b[F\u001b[K\u001b[F\u001b[K\u001b[F\u001b[K\u001b[F\u001b[K\u001b[F\u001b[K\u001b[F\u001b[K\u001b[F\u001b[K\u001b[F\u001b[K\u001b[F\u001b[K\u001b[F\u001b[K\u001b[F\u001b[K\u001b[F\u001b[K\u001b[F\u001b[K\u001b[F\u001b[K\u001b[F\u001b[K\u001b[F\u001b[K\u001b[F\u001b[K\u001b[F\u001b[K\u001b[F\u001b[K\u001b[F\u001b[K\u001b[F\u001b[K\u001b[F\u001b[K\u001b[F\u001b[K\u001b[F\u001b[K\u001b[F\u001b[K\u001b[F\u001b[K\u001b[F\u001b[K\u001b[F\u001b[K\u001b[F\u001b[K\u001b[F\u001b[K\u001b[F\u001b[K\u001b[F\u001b[K\u001b[F\u001b[K\u001b[F\u001b[K\u001b[F\u001b[K\u001b[F\u001b[K\u001b[F\u001b[K\u001b[F\u001b[K\u001b[F\u001b[K\u001b[F\u001b[K\u001b[F\u001b[K\u001b[F\u001b[K\u001b[F\u001b[K\u001b[F\u001b[K\u001b[F\u001b[K\u001b[F\u001b[K\u001b[F\u001b[K\u001b[F\u001b[K\u001b[F\u001b[K\u001b[F\u001b[K\u001b[F\u001b[K\u001b[F\u001b[K\u001b[F\u001b[K\u001b[F\u001b[K\u001b[F\u001b[K\u001b[F\u001b[K\u001b[F\u001b[K\u001b[F\u001b[K\u001b[F\u001b[K\u001b[F\u001b[K\u001b[F\u001b[K\u001b[F\u001b[K\u001b[F\u001b[K\u001b[F\u001b[K\u001b[F\u001b[K\u001b[F\u001b[K\u001b[F\u001b[K\u001b[F\u001b[K\u001b[F\u001b[K\u001b[F\u001b[K\u001b[F\u001b[K"
     ]
    }
   ],
   "source": [
    "p=\"RIGHT_ODOUR_1\"\n",
    "program.query('pin_id == \"{}\"'.format(p))[\"on\"]\n",
    " "
   ]
  },
  {
   "cell_type": "code",
   "execution_count": null,
   "metadata": {
    "collapsed": true
   },
   "outputs": [],
   "source": [
    "    "
   ]
  },
  {
   "cell_type": "code",
   "execution_count": null,
   "metadata": {
    "collapsed": true
   },
   "outputs": [],
   "source": []
  },
  {
   "cell_type": "code",
   "execution_count": null,
   "metadata": {
    "collapsed": true
   },
   "outputs": [],
   "source": []
  }
 ],
 "metadata": {
  "kernelspec": {
   "display_name": "Arduino",
   "language": "python",
   "name": "arduino"
  },
  "language_info": {
   "codemirror_mode": {
    "name": "ipython",
    "version": 3
   },
   "file_extension": ".py",
   "mimetype": "text/x-python",
   "name": "python",
   "nbconvert_exporter": "python",
   "pygments_lexer": "ipython3",
   "version": "3.6.8"
  }
 },
 "nbformat": 4,
 "nbformat_minor": 2
}
